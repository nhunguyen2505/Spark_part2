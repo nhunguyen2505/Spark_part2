{
  "nbformat": 4,
  "nbformat_minor": 0,
  "metadata": {
    "colab": {
      "name": "DataFrame.ipynb",
      "provenance": []
    },
    "kernelspec": {
      "name": "python3",
      "display_name": "Python 3"
    }
  },
  "cells": [
    {
      "cell_type": "code",
      "metadata": {
        "colab": {
          "base_uri": "https://localhost:8080/"
        },
        "id": "eybZz0baTmEE",
        "outputId": "8dff0578-d630-4152-b264-e6917986f2a5"
      },
      "source": [
        "!pip install pyspark"
      ],
      "execution_count": 2,
      "outputs": [
        {
          "output_type": "stream",
          "text": [
            "Collecting pyspark\n",
            "\u001b[?25l  Downloading https://files.pythonhosted.org/packages/f0/26/198fc8c0b98580f617cb03cb298c6056587b8f0447e20fa40c5b634ced77/pyspark-3.0.1.tar.gz (204.2MB)\n",
            "\u001b[K     |████████████████████████████████| 204.2MB 79kB/s \n",
            "\u001b[?25hCollecting py4j==0.10.9\n",
            "\u001b[?25l  Downloading https://files.pythonhosted.org/packages/9e/b6/6a4fb90cd235dc8e265a6a2067f2a2c99f0d91787f06aca4bcf7c23f3f80/py4j-0.10.9-py2.py3-none-any.whl (198kB)\n",
            "\u001b[K     |████████████████████████████████| 204kB 59.4MB/s \n",
            "\u001b[?25hBuilding wheels for collected packages: pyspark\n",
            "  Building wheel for pyspark (setup.py) ... \u001b[?25l\u001b[?25hdone\n",
            "  Created wheel for pyspark: filename=pyspark-3.0.1-py2.py3-none-any.whl size=204612242 sha256=2b592d74c9c38e646655a82c092f9f2da11f5a352cd787f83de141890591e16e\n",
            "  Stored in directory: /root/.cache/pip/wheels/5e/bd/07/031766ca628adec8435bb40f0bd83bb676ce65ff4007f8e73f\n",
            "Successfully built pyspark\n",
            "Installing collected packages: py4j, pyspark\n",
            "Successfully installed py4j-0.10.9 pyspark-3.0.1\n"
          ],
          "name": "stdout"
        }
      ]
    },
    {
      "cell_type": "code",
      "metadata": {
        "id": "e6DLjZSIUBF_"
      },
      "source": [
        "from pyspark.sql import SparkSession\r\n",
        "#Điểm bắt đầu: dùng thư viện SparkSession\r\n",
        "spark = SparkSession.builder.appName('Ops').getOrCreate()"
      ],
      "execution_count": 5,
      "outputs": []
    },
    {
      "cell_type": "code",
      "metadata": {
        "colab": {
          "base_uri": "https://localhost:8080/"
        },
        "id": "c1cDM23PUeub",
        "outputId": "6a1b4cd2-d1f0-451b-f132-1446ce563879"
      },
      "source": [
        "#Tạo DataFrames\r\n",
        "df = spark.read.csv('/content/stock.csv',inferSchema = True, header = True)\r\n",
        "df.show()"
      ],
      "execution_count": 8,
      "outputs": [
        {
          "output_type": "stream",
          "text": [
            "+----------+---------+---------+---------+---------+---------+------+\n",
            "|      Date|     Open|     High|      Low|    Close|Adj Close|Volume|\n",
            "+----------+---------+---------+---------+---------+---------+------+\n",
            "|2020-01-31|    24.09|24.110001|     23.5|    23.67|23.306396| 86400|\n",
            "|2020-02-03|23.809999|24.059999|    23.76|23.889999|23.523014| 59000|\n",
            "|2020-02-04|24.129999|24.530001|23.889999|24.360001|23.985796| 89500|\n",
            "|2020-02-05|    24.57|    24.67|    23.83|24.370001|23.995644|115700|\n",
            "|2020-02-06|24.549999|    24.66|24.299999|24.549999|24.172876| 51500|\n",
            "|2020-02-07|     24.4|    24.43|    23.74|    23.91|23.614851| 45500|\n",
            "|2020-02-10|    23.85|24.559999|    23.85|24.530001|  24.2272| 58800|\n",
            "|2020-02-11|24.559999|     24.9|    24.43|    24.73| 24.42473| 77800|\n",
            "|2020-02-12|    24.77|    24.77|24.309999|    24.41|24.108679| 52000|\n",
            "|2020-02-13|    24.52|    24.76|24.379999|    24.75|24.444481| 38500|\n",
            "|2020-02-14|    24.82|    24.82|24.450001|24.549999|24.246952| 63700|\n",
            "|2020-02-18|24.549999|    24.82|    24.41|    24.42|24.118557| 44300|\n",
            "|2020-02-19|24.459999|25.459999|24.459999|     25.0|24.691397|153300|\n",
            "|2020-02-20|     24.5|     25.0|    21.25|22.200001|21.925961|359700|\n",
            "|2020-02-21|21.940001|    22.02|    21.33|     21.9|21.629663|182700|\n",
            "|2020-02-24|21.450001|21.559999|20.370001|20.530001|20.276577|137500|\n",
            "|2020-02-25|     20.5|20.700001|20.190001|20.309999| 20.05929|204500|\n",
            "|2020-02-26|    20.48|    21.23|    20.32|     21.1|20.839539|186800|\n",
            "|2020-02-27|    21.09|     21.5|20.639999|    20.83|20.572872|202700|\n",
            "|2020-02-28|     20.5|21.190001|     20.5|    21.15|20.888922|192700|\n",
            "+----------+---------+---------+---------+---------+---------+------+\n",
            "only showing top 20 rows\n",
            "\n"
          ],
          "name": "stdout"
        }
      ]
    },
    {
      "cell_type": "code",
      "metadata": {
        "colab": {
          "base_uri": "https://localhost:8080/"
        },
        "id": "MmIwZ7D0Y_qD",
        "outputId": "c0bea6c5-b6d2-4d74-95e9-fd91ad1fad63"
      },
      "source": [
        "#Show the columns\r\n",
        "df.columns"
      ],
      "execution_count": 9,
      "outputs": [
        {
          "output_type": "execute_result",
          "data": {
            "text/plain": [
              "['Date', 'Open', 'High', 'Low', 'Close', 'Adj Close', 'Volume']"
            ]
          },
          "metadata": {
            "tags": []
          },
          "execution_count": 9
        }
      ]
    },
    {
      "cell_type": "code",
      "metadata": {
        "colab": {
          "base_uri": "https://localhost:8080/"
        },
        "id": "RQ70M33UZHpj",
        "outputId": "06731c4a-7d31-4f58-a9a5-0d91d9bad672"
      },
      "source": [
        "#Spark DataFrames have separate Column and Row types\r\n",
        "type(df['High'])\r\n"
      ],
      "execution_count": 11,
      "outputs": [
        {
          "output_type": "execute_result",
          "data": {
            "text/plain": [
              "pyspark.sql.column.Column"
            ]
          },
          "metadata": {
            "tags": []
          },
          "execution_count": 11
        }
      ]
    },
    {
      "cell_type": "code",
      "metadata": {
        "colab": {
          "base_uri": "https://localhost:8080/"
        },
        "id": "Hw36fUeHZcKH",
        "outputId": "6f035623-815a-4ec0-defc-415cda60d92f"
      },
      "source": [
        "type(df.head(2)[0])"
      ],
      "execution_count": 12,
      "outputs": [
        {
          "output_type": "execute_result",
          "data": {
            "text/plain": [
              "pyspark.sql.types.Row"
            ]
          },
          "metadata": {
            "tags": []
          },
          "execution_count": 12
        }
      ]
    },
    {
      "cell_type": "code",
      "metadata": {
        "colab": {
          "base_uri": "https://localhost:8080/"
        },
        "id": "Za5yLOwvZhyt",
        "outputId": "0615c022-c329-446f-9b18-aab5b3bb3e78"
      },
      "source": [
        "#The select method to select particular columns\r\n",
        "\r\n",
        "df.select(['High','Close']).show()"
      ],
      "execution_count": 13,
      "outputs": [
        {
          "output_type": "stream",
          "text": [
            "+---------+---------+\n",
            "|     High|    Close|\n",
            "+---------+---------+\n",
            "|24.110001|    23.67|\n",
            "|24.059999|23.889999|\n",
            "|24.530001|24.360001|\n",
            "|    24.67|24.370001|\n",
            "|    24.66|24.549999|\n",
            "|    24.43|    23.91|\n",
            "|24.559999|24.530001|\n",
            "|     24.9|    24.73|\n",
            "|    24.77|    24.41|\n",
            "|    24.76|    24.75|\n",
            "|    24.82|24.549999|\n",
            "|    24.82|    24.42|\n",
            "|25.459999|     25.0|\n",
            "|     25.0|22.200001|\n",
            "|    22.02|     21.9|\n",
            "|21.559999|20.530001|\n",
            "|20.700001|20.309999|\n",
            "|    21.23|     21.1|\n",
            "|     21.5|    20.83|\n",
            "|21.190001|    21.15|\n",
            "+---------+---------+\n",
            "only showing top 20 rows\n",
            "\n"
          ],
          "name": "stdout"
        }
      ]
    },
    {
      "cell_type": "code",
      "metadata": {
        "colab": {
          "base_uri": "https://localhost:8080/"
        },
        "id": "yX2r6-kLZrNn",
        "outputId": "11930af0-54c3-47ab-84e0-624ae6e7f7a6"
      },
      "source": [
        "#The limit method to take first few rows\r\n",
        "df.limit(4).show()"
      ],
      "execution_count": 15,
      "outputs": [
        {
          "output_type": "stream",
          "text": [
            "+----------+---------+---------+---------+---------+---------+------+\n",
            "|      Date|     Open|     High|      Low|    Close|Adj Close|Volume|\n",
            "+----------+---------+---------+---------+---------+---------+------+\n",
            "|2020-01-31|    24.09|24.110001|     23.5|    23.67|23.306396| 86400|\n",
            "|2020-02-03|23.809999|24.059999|    23.76|23.889999|23.523014| 59000|\n",
            "|2020-02-04|24.129999|24.530001|23.889999|24.360001|23.985796| 89500|\n",
            "|2020-02-05|    24.57|    24.67|    23.83|24.370001|23.995644|115700|\n",
            "+----------+---------+---------+---------+---------+---------+------+\n",
            "\n"
          ],
          "name": "stdout"
        }
      ]
    },
    {
      "cell_type": "code",
      "metadata": {
        "colab": {
          "base_uri": "https://localhost:8080/"
        },
        "id": "rEAawAgmZ_fv",
        "outputId": "5d10c449-b3c9-48c3-87d0-f016297ed08c"
      },
      "source": [
        "#head() and asDict()\r\n",
        "df.head(9)"
      ],
      "execution_count": 17,
      "outputs": [
        {
          "output_type": "execute_result",
          "data": {
            "text/plain": [
              "[Row(Date='2020-01-31', Open=24.09, High=24.110001, Low=23.5, Close=23.67, Adj Close=23.306396, Volume=86400),\n",
              " Row(Date='2020-02-03', Open=23.809999, High=24.059999, Low=23.76, Close=23.889999, Adj Close=23.523014, Volume=59000),\n",
              " Row(Date='2020-02-04', Open=24.129999, High=24.530001, Low=23.889999, Close=24.360001, Adj Close=23.985796, Volume=89500),\n",
              " Row(Date='2020-02-05', Open=24.57, High=24.67, Low=23.83, Close=24.370001, Adj Close=23.995644, Volume=115700),\n",
              " Row(Date='2020-02-06', Open=24.549999, High=24.66, Low=24.299999, Close=24.549999, Adj Close=24.172876, Volume=51500),\n",
              " Row(Date='2020-02-07', Open=24.4, High=24.43, Low=23.74, Close=23.91, Adj Close=23.614851, Volume=45500),\n",
              " Row(Date='2020-02-10', Open=23.85, High=24.559999, Low=23.85, Close=24.530001, Adj Close=24.2272, Volume=58800),\n",
              " Row(Date='2020-02-11', Open=24.559999, High=24.9, Low=24.43, Close=24.73, Adj Close=24.42473, Volume=77800),\n",
              " Row(Date='2020-02-12', Open=24.77, High=24.77, Low=24.309999, Close=24.41, Adj Close=24.108679, Volume=52000)]"
            ]
          },
          "metadata": {
            "tags": []
          },
          "execution_count": 17
        }
      ]
    },
    {
      "cell_type": "code",
      "metadata": {
        "colab": {
          "base_uri": "https://localhost:8080/"
        },
        "id": "HpYONwXqaQD2",
        "outputId": "f1b4f8c3-197c-43fa-ed45-0a6c447cb7ce"
      },
      "source": [
        "dict_ = df.head(1)[0].asDict()\r\n",
        "dict_"
      ],
      "execution_count": 19,
      "outputs": [
        {
          "output_type": "execute_result",
          "data": {
            "text/plain": [
              "{'Adj Close': 23.306396,\n",
              " 'Close': 23.67,\n",
              " 'Date': '2020-01-31',\n",
              " 'High': 24.110001,\n",
              " 'Low': 23.5,\n",
              " 'Open': 24.09,\n",
              " 'Volume': 86400}"
            ]
          },
          "metadata": {
            "tags": []
          },
          "execution_count": 19
        }
      ]
    },
    {
      "cell_type": "code",
      "metadata": {
        "colab": {
          "base_uri": "https://localhost:8080/"
        },
        "id": "KvgdKGkCajj2",
        "outputId": "43ea34fb-7ca6-4903-a6cf-2c8b716ffceb"
      },
      "source": [
        "#count method - number of rows\r\n",
        "df.count()"
      ],
      "execution_count": 20,
      "outputs": [
        {
          "output_type": "execute_result",
          "data": {
            "text/plain": [
              "252"
            ]
          },
          "metadata": {
            "tags": []
          },
          "execution_count": 20
        }
      ]
    },
    {
      "cell_type": "code",
      "metadata": {
        "colab": {
          "base_uri": "https://localhost:8080/"
        },
        "id": "O5lCwnqwaxEB",
        "outputId": "dd57bbc0-58ad-4bd7-8027-27dd11fb0cf0"
      },
      "source": [
        "df.select('Volume').distinct().show()"
      ],
      "execution_count": 21,
      "outputs": [
        {
          "output_type": "stream",
          "text": [
            "+------+\n",
            "|Volume|\n",
            "+------+\n",
            "| 86400|\n",
            "| 71600|\n",
            "|108500|\n",
            "| 62400|\n",
            "| 91200|\n",
            "|170800|\n",
            "|100600|\n",
            "| 66800|\n",
            "|189400|\n",
            "| 91000|\n",
            "| 60100|\n",
            "|178300|\n",
            "|383400|\n",
            "| 55600|\n",
            "| 66500|\n",
            "|124100|\n",
            "|491200|\n",
            "|100400|\n",
            "|260400|\n",
            "| 49500|\n",
            "+------+\n",
            "only showing top 20 rows\n",
            "\n"
          ],
          "name": "stdout"
        }
      ]
    },
    {
      "cell_type": "code",
      "metadata": {
        "colab": {
          "base_uri": "https://localhost:8080/"
        },
        "id": "I71pijEQa_p7",
        "outputId": "d7b5eeb4-086a-4f78-e3f3-26a4af3b518a"
      },
      "source": [
        "df.select('Volume').distinct().count()"
      ],
      "execution_count": 22,
      "outputs": [
        {
          "output_type": "execute_result",
          "data": {
            "text/plain": [
              "238"
            ]
          },
          "metadata": {
            "tags": []
          },
          "execution_count": 22
        }
      ]
    },
    {
      "cell_type": "code",
      "metadata": {
        "colab": {
          "base_uri": "https://localhost:8080/"
        },
        "id": "uKFxP8habLmK",
        "outputId": "6226f056-9598-4d6c-a042-c97df2cacab9"
      },
      "source": [
        "#random sampling using the sample method\r\n",
        "df.sample(withReplacement = False,fraction = 0.005,seed = 101).show()"
      ],
      "execution_count": 23,
      "outputs": [
        {
          "output_type": "stream",
          "text": [
            "+----------+---------+---------+---------+---------+---------+------+\n",
            "|      Date|     Open|     High|      Low|    Close|Adj Close|Volume|\n",
            "+----------+---------+---------+---------+---------+---------+------+\n",
            "|2020-03-03|    20.23|     20.4|    19.33|19.549999|19.308672|200300|\n",
            "|2020-06-02|18.370001|    18.91|    18.32|    18.67| 18.53055|199600|\n",
            "|2020-10-15|23.209999|     24.0|    22.98|    23.85|23.764147|110900|\n",
            "|2020-11-13|27.360001|     28.1|27.219999|27.879999|27.879999| 60800|\n",
            "|2020-11-17|29.299999|29.790001|    28.73|    28.92|    28.92| 57200|\n",
            "+----------+---------+---------+---------+---------+---------+------+\n",
            "\n"
          ],
          "name": "stdout"
        }
      ]
    },
    {
      "cell_type": "code",
      "metadata": {
        "colab": {
          "base_uri": "https://localhost:8080/"
        },
        "id": "MJwK6sLGbn7w",
        "outputId": "5462438d-63d1-4cac-f3e6-979642134e28"
      },
      "source": [
        "#insert new column\r\n",
        "df.withColumn('Sub',df['High']-df['Low']).limit(10).select(['High','Low','Sub']).show()"
      ],
      "execution_count": 25,
      "outputs": [
        {
          "output_type": "stream",
          "text": [
            "+---------+---------+-------------------+\n",
            "|     High|      Low|                Sub|\n",
            "+---------+---------+-------------------+\n",
            "|24.110001|     23.5| 0.6100010000000005|\n",
            "|24.059999|    23.76| 0.2999989999999997|\n",
            "|24.530001|23.889999| 0.6400019999999991|\n",
            "|    24.67|    23.83| 0.8400000000000034|\n",
            "|    24.66|24.299999|0.36000100000000046|\n",
            "|    24.43|    23.74| 0.6900000000000013|\n",
            "|24.559999|    23.85| 0.7099989999999998|\n",
            "|     24.9|    24.43|0.46999999999999886|\n",
            "|    24.77|24.309999|0.46000099999999833|\n",
            "|    24.76|24.379999|0.38000100000000003|\n",
            "+---------+---------+-------------------+\n",
            "\n"
          ],
          "name": "stdout"
        }
      ]
    },
    {
      "cell_type": "code",
      "metadata": {
        "colab": {
          "base_uri": "https://localhost:8080/"
        },
        "id": "X64Di_aRcM65",
        "outputId": "f1a15c55-d266-4586-84d0-71149d2ecfe9"
      },
      "source": [
        "#Rename\r\n",
        "df.withColumn('Sub',df['High']-df['Low']).limit(10).select(['High','Low','Sub']).withColumnRenamed('Sub','Range').show()\r\n"
      ],
      "execution_count": 26,
      "outputs": [
        {
          "output_type": "stream",
          "text": [
            "+---------+---------+-------------------+\n",
            "|     High|      Low|              Range|\n",
            "+---------+---------+-------------------+\n",
            "|24.110001|     23.5| 0.6100010000000005|\n",
            "|24.059999|    23.76| 0.2999989999999997|\n",
            "|24.530001|23.889999| 0.6400019999999991|\n",
            "|    24.67|    23.83| 0.8400000000000034|\n",
            "|    24.66|24.299999|0.36000100000000046|\n",
            "|    24.43|    23.74| 0.6900000000000013|\n",
            "|24.559999|    23.85| 0.7099989999999998|\n",
            "|     24.9|    24.43|0.46999999999999886|\n",
            "|    24.77|24.309999|0.46000099999999833|\n",
            "|    24.76|24.379999|0.38000100000000003|\n",
            "+---------+---------+-------------------+\n",
            "\n"
          ],
          "name": "stdout"
        }
      ]
    },
    {
      "cell_type": "code",
      "metadata": {
        "colab": {
          "base_uri": "https://localhost:8080/"
        },
        "id": "8R_9l6w0cxnx",
        "outputId": "cebc15da-339a-4dbb-b07f-05a9ef39c504"
      },
      "source": [
        "#filter() or where()\r\n",
        "df.filter(\"Close < 50\").show(5)"
      ],
      "execution_count": 27,
      "outputs": [
        {
          "output_type": "stream",
          "text": [
            "+----------+---------+---------+---------+---------+---------+------+\n",
            "|      Date|     Open|     High|      Low|    Close|Adj Close|Volume|\n",
            "+----------+---------+---------+---------+---------+---------+------+\n",
            "|2020-01-31|    24.09|24.110001|     23.5|    23.67|23.306396| 86400|\n",
            "|2020-02-03|23.809999|24.059999|    23.76|23.889999|23.523014| 59000|\n",
            "|2020-02-04|24.129999|24.530001|23.889999|24.360001|23.985796| 89500|\n",
            "|2020-02-05|    24.57|    24.67|    23.83|24.370001|23.995644|115700|\n",
            "|2020-02-06|24.549999|    24.66|24.299999|24.549999|24.172876| 51500|\n",
            "+----------+---------+---------+---------+---------+---------+------+\n",
            "only showing top 5 rows\n",
            "\n"
          ],
          "name": "stdout"
        }
      ]
    },
    {
      "cell_type": "code",
      "metadata": {
        "colab": {
          "base_uri": "https://localhost:8080/"
        },
        "id": "L4nzgd0OdLkT",
        "outputId": "bbcb0e0b-d297-472e-8d41-e97c89a2a711"
      },
      "source": [
        "df.filter(\"Close < 50 AND Open > 24\").select(['Date','Open','Close']).show()"
      ],
      "execution_count": 30,
      "outputs": [
        {
          "output_type": "stream",
          "text": [
            "+----------+---------+---------+\n",
            "|      Date|     Open|    Close|\n",
            "+----------+---------+---------+\n",
            "|2020-01-31|    24.09|    23.67|\n",
            "|2020-02-04|24.129999|24.360001|\n",
            "|2020-02-05|    24.57|24.370001|\n",
            "|2020-02-06|24.549999|24.549999|\n",
            "|2020-02-07|     24.4|    23.91|\n",
            "|2020-02-11|24.559999|    24.73|\n",
            "|2020-02-12|    24.77|    24.41|\n",
            "|2020-02-13|    24.52|    24.75|\n",
            "|2020-02-14|    24.82|24.549999|\n",
            "|2020-02-18|24.549999|    24.42|\n",
            "|2020-02-19|24.459999|     25.0|\n",
            "|2020-02-20|     24.5|22.200001|\n",
            "|2020-10-06|24.370001|    23.58|\n",
            "|2020-10-19|    24.15|    23.75|\n",
            "|2020-10-22|24.139999|     24.5|\n",
            "|2020-10-23|24.559999|    24.75|\n",
            "|2020-10-26|    24.49|24.040001|\n",
            "|2020-10-27|24.049999|    24.26|\n",
            "|2020-10-28|    24.07|     25.5|\n",
            "|2020-10-29|25.780001|25.700001|\n",
            "+----------+---------+---------+\n",
            "only showing top 20 rows\n",
            "\n"
          ],
          "name": "stdout"
        }
      ]
    },
    {
      "cell_type": "code",
      "metadata": {
        "colab": {
          "base_uri": "https://localhost:8080/"
        },
        "id": "3sTw-qXPdlax",
        "outputId": "c9c9582d-33e3-4b57-8452-039ce4bda0ab"
      },
      "source": [
        "df.filter(df['Close']<50).show(5)"
      ],
      "execution_count": 31,
      "outputs": [
        {
          "output_type": "stream",
          "text": [
            "+----------+---------+---------+---------+---------+---------+------+\n",
            "|      Date|     Open|     High|      Low|    Close|Adj Close|Volume|\n",
            "+----------+---------+---------+---------+---------+---------+------+\n",
            "|2020-01-31|    24.09|24.110001|     23.5|    23.67|23.306396| 86400|\n",
            "|2020-02-03|23.809999|24.059999|    23.76|23.889999|23.523014| 59000|\n",
            "|2020-02-04|24.129999|24.530001|23.889999|24.360001|23.985796| 89500|\n",
            "|2020-02-05|    24.57|    24.67|    23.83|24.370001|23.995644|115700|\n",
            "|2020-02-06|24.549999|    24.66|24.299999|24.549999|24.172876| 51500|\n",
            "+----------+---------+---------+---------+---------+---------+------+\n",
            "only showing top 5 rows\n",
            "\n"
          ],
          "name": "stdout"
        }
      ]
    },
    {
      "cell_type": "code",
      "metadata": {
        "colab": {
          "base_uri": "https://localhost:8080/"
        },
        "id": "NCc33MWpdvyQ",
        "outputId": "02e7433a-aa2a-4d7a-e155-e229d80e9d8c"
      },
      "source": [
        "df.filter((df[\"Close\"] < 50) & (df['Open'] > 24)).select(['Date','Open','Close']).show()"
      ],
      "execution_count": 32,
      "outputs": [
        {
          "output_type": "stream",
          "text": [
            "+----------+---------+---------+\n",
            "|      Date|     Open|    Close|\n",
            "+----------+---------+---------+\n",
            "|2020-01-31|    24.09|    23.67|\n",
            "|2020-02-04|24.129999|24.360001|\n",
            "|2020-02-05|    24.57|24.370001|\n",
            "|2020-02-06|24.549999|24.549999|\n",
            "|2020-02-07|     24.4|    23.91|\n",
            "|2020-02-11|24.559999|    24.73|\n",
            "|2020-02-12|    24.77|    24.41|\n",
            "|2020-02-13|    24.52|    24.75|\n",
            "|2020-02-14|    24.82|24.549999|\n",
            "|2020-02-18|24.549999|    24.42|\n",
            "|2020-02-19|24.459999|     25.0|\n",
            "|2020-02-20|     24.5|22.200001|\n",
            "|2020-10-06|24.370001|    23.58|\n",
            "|2020-10-19|    24.15|    23.75|\n",
            "|2020-10-22|24.139999|     24.5|\n",
            "|2020-10-23|24.559999|    24.75|\n",
            "|2020-10-26|    24.49|24.040001|\n",
            "|2020-10-27|24.049999|    24.26|\n",
            "|2020-10-28|    24.07|     25.5|\n",
            "|2020-10-29|25.780001|25.700001|\n",
            "+----------+---------+---------+\n",
            "only showing top 20 rows\n",
            "\n"
          ],
          "name": "stdout"
        }
      ]
    },
    {
      "cell_type": "code",
      "metadata": {
        "colab": {
          "base_uri": "https://localhost:8080/"
        },
        "id": "B2NxQGlieGOh",
        "outputId": "79a63227-9ba8-4237-b5b8-37a46457ccd0"
      },
      "source": [
        "df.filter(df['Low']==23.5).show()"
      ],
      "execution_count": 34,
      "outputs": [
        {
          "output_type": "stream",
          "text": [
            "+----------+-----+---------+----+-----+---------+------+\n",
            "|      Date| Open|     High| Low|Close|Adj Close|Volume|\n",
            "+----------+-----+---------+----+-----+---------+------+\n",
            "|2020-01-31|24.09|24.110001|23.5|23.67|23.306396| 86400|\n",
            "+----------+-----+---------+----+-----+---------+------+\n",
            "\n"
          ],
          "name": "stdout"
        }
      ]
    },
    {
      "cell_type": "code",
      "metadata": {
        "colab": {
          "base_uri": "https://localhost:8080/"
        },
        "id": "4rzGYaOfeZA5",
        "outputId": "7acb0a9e-aebf-496f-8597-692fc6345347"
      },
      "source": [
        "#Use the collect method instead of show, to collect the actual data\r\n",
        "low_data = df.filter(df['Low'] == 23.5).collect()\r\n",
        "low_data"
      ],
      "execution_count": 35,
      "outputs": [
        {
          "output_type": "execute_result",
          "data": {
            "text/plain": [
              "[Row(Date='2020-01-31', Open=24.09, High=24.110001, Low=23.5, Close=23.67, Adj Close=23.306396, Volume=86400)]"
            ]
          },
          "metadata": {
            "tags": []
          },
          "execution_count": 35
        }
      ]
    },
    {
      "cell_type": "code",
      "metadata": {
        "colab": {
          "base_uri": "https://localhost:8080/"
        },
        "id": "nVQfi0b9enT4",
        "outputId": "058a030f-6d0a-4edb-e500-692743668d05"
      },
      "source": [
        "dt = low_data[0]\r\n",
        "dt.asDict()"
      ],
      "execution_count": 36,
      "outputs": [
        {
          "output_type": "execute_result",
          "data": {
            "text/plain": [
              "{'Adj Close': 23.306396,\n",
              " 'Close': 23.67,\n",
              " 'Date': '2020-01-31',\n",
              " 'High': 24.110001,\n",
              " 'Low': 23.5,\n",
              " 'Open': 24.09,\n",
              " 'Volume': 86400}"
            ]
          },
          "metadata": {
            "tags": []
          },
          "execution_count": 36
        }
      ]
    },
    {
      "cell_type": "code",
      "metadata": {
        "colab": {
          "base_uri": "https://localhost:8080/"
        },
        "id": "uQYTJpf1exFZ",
        "outputId": "beef5c03-33f1-4ae2-ba53-a8553494beec"
      },
      "source": [
        "#Sorted\r\n",
        "df4 = df.select('High','Low').limit(10)\r\n",
        "#Tang dan\r\n",
        "df4.sort('High').show()"
      ],
      "execution_count": 37,
      "outputs": [
        {
          "output_type": "stream",
          "text": [
            "+---------+---------+\n",
            "|     High|      Low|\n",
            "+---------+---------+\n",
            "|24.059999|    23.76|\n",
            "|24.110001|     23.5|\n",
            "|    24.43|    23.74|\n",
            "|24.530001|23.889999|\n",
            "|24.559999|    23.85|\n",
            "|    24.66|24.299999|\n",
            "|    24.67|    23.83|\n",
            "|    24.76|24.379999|\n",
            "|    24.77|24.309999|\n",
            "|     24.9|    24.43|\n",
            "+---------+---------+\n",
            "\n"
          ],
          "name": "stdout"
        }
      ]
    },
    {
      "cell_type": "code",
      "metadata": {
        "colab": {
          "base_uri": "https://localhost:8080/"
        },
        "id": "aijWkWJRfPe2",
        "outputId": "4630a66f-918f-4ceb-bf9c-86c830ff0d1d"
      },
      "source": [
        "#Giam dan\r\n",
        "df4.sort('High',ascending = False).show()"
      ],
      "execution_count": 38,
      "outputs": [
        {
          "output_type": "stream",
          "text": [
            "+---------+---------+\n",
            "|     High|      Low|\n",
            "+---------+---------+\n",
            "|     24.9|    24.43|\n",
            "|    24.77|24.309999|\n",
            "|    24.76|24.379999|\n",
            "|    24.67|    23.83|\n",
            "|    24.66|24.299999|\n",
            "|24.559999|    23.85|\n",
            "|24.530001|23.889999|\n",
            "|    24.43|    23.74|\n",
            "|24.110001|     23.5|\n",
            "|24.059999|    23.76|\n",
            "+---------+---------+\n",
            "\n"
          ],
          "name": "stdout"
        }
      ]
    },
    {
      "cell_type": "code",
      "metadata": {
        "colab": {
          "base_uri": "https://localhost:8080/"
        },
        "id": "h6S_b_iKfZzI",
        "outputId": "59bf3f4f-d192-4344-d4fb-1d0a9a6c1aa1"
      },
      "source": [
        "#Pyspark.sql.function\r\n",
        "from pyspark.sql.functions import corr, dayofweek, month\r\n",
        "\r\n",
        "\r\n",
        "df5=df.withColumn('Day-of-Week',dayofweek('Date')).withColumn('Month',month('Date')).select(['Day-of-Week','Month','Open','Close'])\r\n",
        "\r\n",
        "df5.show(5)"
      ],
      "execution_count": 39,
      "outputs": [
        {
          "output_type": "stream",
          "text": [
            "+-----------+-----+---------+---------+\n",
            "|Day-of-Week|Month|     Open|    Close|\n",
            "+-----------+-----+---------+---------+\n",
            "|          6|    1|    24.09|    23.67|\n",
            "|          2|    2|23.809999|23.889999|\n",
            "|          3|    2|24.129999|24.360001|\n",
            "|          4|    2|    24.57|24.370001|\n",
            "|          5|    2|24.549999|24.549999|\n",
            "+-----------+-----+---------+---------+\n",
            "only showing top 5 rows\n",
            "\n"
          ],
          "name": "stdout"
        }
      ]
    }
  ]
}